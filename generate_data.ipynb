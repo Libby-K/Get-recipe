{
 "cells": [
  {
   "cell_type": "markdown",
   "id": "5bd5707d-3364-4ae8-a170-3da2bf4ed1b7",
   "metadata": {},
   "source": [
    "#### This module generates data for the model"
   ]
  },
  {
   "cell_type": "code",
   "execution_count": 1,
   "id": "dfb9362b-1b54-4437-bc9d-67b54d6b2920",
   "metadata": {},
   "outputs": [
    {
     "name": "stdout",
     "output_type": "stream",
     "text": [
      "peak memory: 62.85 MiB, increment: 0.20 MiB\n"
     ]
    }
   ],
   "source": [
    "%load_ext memory_profiler\n",
    "%memit\n",
    "# Import necessary modules\n",
    "\n",
    "import pandas as pd\n",
    "import numpy as np\n",
    "from bs4 import BeautifulSoup\n",
    "import requests\n",
    "import re\n",
    "import json\n",
    "import csv\n",
    "import scrape_data as sc\n",
    "import subprocess\n",
    "import time"
   ]
  },
  {
   "cell_type": "code",
   "execution_count": 2,
   "id": "61cb8a2e-a5a2-419c-8c84-b4c3c8c62564",
   "metadata": {},
   "outputs": [
    {
     "name": "stdout",
     "output_type": "stream",
     "text": [
      "peak memory: 290.65 MiB, increment: 0.00 MiB\n",
      "Time elapsed: 0.00000 (seconds)\n"
     ]
    }
   ],
   "source": [
    "\n",
    "%memit\n",
    "start_time = time.time()\n",
    "\n",
    "def extract_paragraphs(url):\n",
    "    # Extract the HTML content of the web page from the specified URL\n",
    "    body = sc.extract_url_body(url)\n",
    "    \n",
    "    # Find all <p> tags in the HTML content\n",
    "    paragraphs = body.find_all('p')\n",
    "    \n",
    "    # Define a list of lookup tokens to search for in the <p> tags\n",
    "    lookup_tokens = ['ingredient', 'instruction']\n",
    "    \n",
    "    # Concatenate the lookup tokens into a regular expression pattern separated by '|' character\n",
    "    tokens = '|'.join(token for token in lookup_tokens)\n",
    "    \n",
    "    # Loop over all the <p> tags found in the HTML content\n",
    "    for p in paragraphs:\n",
    "        # Extract the text content of the <p> tag and remove any leading/trailing white spaces\n",
    "        p_text = p.text.strip()\n",
    "        \n",
    "        # Check if any of the lookup tokens exist in the text content of the <p> tag\n",
    "        if re.findall(tokens, p_text, flags=re.IGNORECASE):\n",
    "            # If any of the lookup tokens exist in the text content, append it to the neither_list\n",
    "            neither_list.append(p_text)\n",
    "    \n",
    "# Print the time of execution\n",
    "end_time =   time.time() \n",
    "print(f'Time elapsed: {end_time - start_time :.5f} (seconds)')"
   ]
  },
  {
   "cell_type": "code",
   "execution_count": 3,
   "id": "b49cc621-31fa-44ff-85a2-4ac5dcadf099",
   "metadata": {},
   "outputs": [
    {
     "name": "stdout",
     "output_type": "stream",
     "text": [
      "peak memory: 290.68 MiB, increment: 0.00 MiB\n"
     ]
    },
    {
     "data": {
      "text/html": [
       "<div>\n",
       "<style scoped>\n",
       "    .dataframe tbody tr th:only-of-type {\n",
       "        vertical-align: middle;\n",
       "    }\n",
       "\n",
       "    .dataframe tbody tr th {\n",
       "        vertical-align: top;\n",
       "    }\n",
       "\n",
       "    .dataframe thead th {\n",
       "        text-align: right;\n",
       "    }\n",
       "</style>\n",
       "<table border=\"1\" class=\"dataframe\">\n",
       "  <thead>\n",
       "    <tr style=\"text-align: right;\">\n",
       "      <th></th>\n",
       "      <th>url</th>\n",
       "      <th>ingredients</th>\n",
       "      <th>instructions</th>\n",
       "    </tr>\n",
       "  </thead>\n",
       "  <tbody>\n",
       "    <tr>\n",
       "      <th>0</th>\n",
       "      <td>https://www.loveandlemons.com/vegan-ramen/</td>\n",
       "      <td>1 recipe Mushroom Broth\\n1 tablespoon rice vin...</td>\n",
       "      <td>Prepare the mushroom broth according to this r...</td>\n",
       "    </tr>\n",
       "    <tr>\n",
       "      <th>1</th>\n",
       "      <td>https://www.loveandlemons.com/mushroom-broth/</td>\n",
       "      <td>2 medium yellow onions\\n2 tablespoons extra-vi...</td>\n",
       "      <td>Wash and dry the onions, then remove the onion...</td>\n",
       "    </tr>\n",
       "    <tr>\n",
       "      <th>2</th>\n",
       "      <td>https://www.loveandlemons.com/broccolini/</td>\n",
       "      <td>2 tablespoons extra-virgin olive oil\\n3 garlic...</td>\n",
       "      <td>Heat the olive oil in a large lidded skillet o...</td>\n",
       "    </tr>\n",
       "    <tr>\n",
       "      <th>3</th>\n",
       "      <td>https://www.loveandlemons.com/pasta-fagioli/</td>\n",
       "      <td>2 tablespoons extra-virgin olive oil, plus mor...</td>\n",
       "      <td>Heat the olive oil in a large pot or Dutch ove...</td>\n",
       "    </tr>\n",
       "    <tr>\n",
       "      <th>4</th>\n",
       "      <td>https://www.loveandlemons.com/vegan-meatballs/</td>\n",
       "      <td>16 ounces mixed cremini and shiitake mushrooms...</td>\n",
       "      <td>Preheat the oven to 425°F and line a baking sh...</td>\n",
       "    </tr>\n",
       "  </tbody>\n",
       "</table>\n",
       "</div>"
      ],
      "text/plain": [
       "                                              url  \\\n",
       "0      https://www.loveandlemons.com/vegan-ramen/   \n",
       "1   https://www.loveandlemons.com/mushroom-broth/   \n",
       "2       https://www.loveandlemons.com/broccolini/   \n",
       "3    https://www.loveandlemons.com/pasta-fagioli/   \n",
       "4  https://www.loveandlemons.com/vegan-meatballs/   \n",
       "\n",
       "                                         ingredients  \\\n",
       "0  1 recipe Mushroom Broth\\n1 tablespoon rice vin...   \n",
       "1  2 medium yellow onions\\n2 tablespoons extra-vi...   \n",
       "2  2 tablespoons extra-virgin olive oil\\n3 garlic...   \n",
       "3  2 tablespoons extra-virgin olive oil, plus mor...   \n",
       "4  16 ounces mixed cremini and shiitake mushrooms...   \n",
       "\n",
       "                                        instructions  \n",
       "0  Prepare the mushroom broth according to this r...  \n",
       "1  Wash and dry the onions, then remove the onion...  \n",
       "2  Heat the olive oil in a large lidded skillet o...  \n",
       "3  Heat the olive oil in a large pot or Dutch ove...  \n",
       "4  Preheat the oven to 425°F and line a baking sh...  "
      ]
     },
     "metadata": {},
     "output_type": "display_data"
    },
    {
     "name": "stdout",
     "output_type": "stream",
     "text": [
      "Time elapsed: 0.06055 (seconds)\n"
     ]
    }
   ],
   "source": [
    "%memit\n",
    "start_time = time.time()\n",
    "\n",
    "loaveandlemons = pd.read_csv('loaveandlemons_dataset.csv', index_col = 0)\n",
    "display(loaveandlemons.head())\n",
    "\n",
    "# Print the time of execution\n",
    "end_time =   time.time()\n",
    "print(f'Time elapsed: {end_time - start_time :.5f} (seconds)')"
   ]
  },
  {
   "cell_type": "code",
   "execution_count": 4,
   "id": "49d878ab-d7fa-4677-a616-56aae6392021",
   "metadata": {},
   "outputs": [
    {
     "name": "stdout",
     "output_type": "stream",
     "text": [
      "peak memory: 296.42 MiB, increment: 0.00 MiB\n",
      "Time elapsed: 0.00299 (seconds)\n"
     ]
    }
   ],
   "source": [
    "\n",
    "%memit\n",
    "start_time = time.time()\n",
    "\n",
    "# Replace NaN values with empty strings\n",
    "loaveandlemons.fillna('', inplace=True)\n",
    "\n",
    "# Generate lists from the data\n",
    "url_list = loaveandlemons['url'].to_list()\n",
    "ingredients_list = loaveandlemons['ingredients'].to_list()\n",
    "instructions_list = loaveandlemons['instructions'].to_list()\n",
    "\n",
    "# Print the time of execution\n",
    "end_time =   time.time()\n",
    "print(f'Time elapsed: {end_time - start_time :.5f} (seconds)')"
   ]
  },
  {
   "cell_type": "code",
   "execution_count": 5,
   "id": "4ad873ab-d746-4cf5-b79a-349f6af1fe71",
   "metadata": {},
   "outputs": [
    {
     "name": "stdout",
     "output_type": "stream",
     "text": [
      "peak memory: 296.45 MiB, increment: 0.00 MiB\n",
      "Time elapsed: 957.40200 (seconds)\n"
     ]
    }
   ],
   "source": [
    "# Generate neither list for the model training, the instructions and ingridients in loaveandlemons site are inside divs so they wont be included\n",
    "%memit\n",
    "start_time = time.time()\n",
    "\n",
    "neither_list = []\n",
    "for url in url_list:\n",
    "    extract_paragraphs(url)\n",
    "\n",
    "# Print the time of execution\n",
    "end_time =   time.time()\n",
    "print(f'Time elapsed: {end_time - start_time :.5f} (seconds)')    "
   ]
  },
  {
   "cell_type": "code",
   "execution_count": 6,
   "id": "c20dc5bb-4525-46e2-aecb-33d83cbcd4e5",
   "metadata": {},
   "outputs": [
    {
     "name": "stdout",
     "output_type": "stream",
     "text": [
      "peak memory: 322.43 MiB, increment: 0.00 MiB\n"
     ]
    },
    {
     "data": {
      "text/html": [
       "<div>\n",
       "<style scoped>\n",
       "    .dataframe tbody tr th:only-of-type {\n",
       "        vertical-align: middle;\n",
       "    }\n",
       "\n",
       "    .dataframe tbody tr th {\n",
       "        vertical-align: top;\n",
       "    }\n",
       "\n",
       "    .dataframe thead th {\n",
       "        text-align: right;\n",
       "    }\n",
       "</style>\n",
       "<table border=\"1\" class=\"dataframe\">\n",
       "  <thead>\n",
       "    <tr style=\"text-align: right;\">\n",
       "      <th></th>\n",
       "      <th>directions</th>\n",
       "      <th>fat</th>\n",
       "      <th>date</th>\n",
       "      <th>categories</th>\n",
       "      <th>calories</th>\n",
       "      <th>desc</th>\n",
       "      <th>protein</th>\n",
       "      <th>rating</th>\n",
       "      <th>title</th>\n",
       "      <th>ingredients</th>\n",
       "      <th>sodium</th>\n",
       "    </tr>\n",
       "  </thead>\n",
       "  <tbody>\n",
       "    <tr>\n",
       "      <th>0</th>\n",
       "      <td>[1. Place the stock, lentils, celery, carrot, ...</td>\n",
       "      <td>7.0</td>\n",
       "      <td>2006-09-01 04:00:00+00:00</td>\n",
       "      <td>[Sandwich, Bean, Fruit, Tomato, turkey, Vegeta...</td>\n",
       "      <td>426.0</td>\n",
       "      <td>None</td>\n",
       "      <td>30.0</td>\n",
       "      <td>2.500</td>\n",
       "      <td>Lentil, Apple, and Turkey Wrap</td>\n",
       "      <td>[4 cups low-sodium vegetable or chicken stock,...</td>\n",
       "      <td>559.0</td>\n",
       "    </tr>\n",
       "    <tr>\n",
       "      <th>1</th>\n",
       "      <td>[Combine first 9 ingredients in heavy medium s...</td>\n",
       "      <td>23.0</td>\n",
       "      <td>2004-08-20 04:00:00+00:00</td>\n",
       "      <td>[Food Processor, Onion, Pork, Bake, Bastille D...</td>\n",
       "      <td>403.0</td>\n",
       "      <td>This uses the same ingredients found in boudin...</td>\n",
       "      <td>18.0</td>\n",
       "      <td>4.375</td>\n",
       "      <td>Boudin Blanc Terrine with Red Onion Confit</td>\n",
       "      <td>[1 1/2 cups whipping cream, 2 medium onions, c...</td>\n",
       "      <td>1439.0</td>\n",
       "    </tr>\n",
       "  </tbody>\n",
       "</table>\n",
       "</div>"
      ],
      "text/plain": [
       "                                          directions   fat  \\\n",
       "0  [1. Place the stock, lentils, celery, carrot, ...   7.0   \n",
       "1  [Combine first 9 ingredients in heavy medium s...  23.0   \n",
       "\n",
       "                       date  \\\n",
       "0 2006-09-01 04:00:00+00:00   \n",
       "1 2004-08-20 04:00:00+00:00   \n",
       "\n",
       "                                          categories  calories  \\\n",
       "0  [Sandwich, Bean, Fruit, Tomato, turkey, Vegeta...     426.0   \n",
       "1  [Food Processor, Onion, Pork, Bake, Bastille D...     403.0   \n",
       "\n",
       "                                                desc  protein  rating  \\\n",
       "0                                               None     30.0   2.500   \n",
       "1  This uses the same ingredients found in boudin...     18.0   4.375   \n",
       "\n",
       "                                         title  \\\n",
       "0              Lentil, Apple, and Turkey Wrap    \n",
       "1  Boudin Blanc Terrine with Red Onion Confit    \n",
       "\n",
       "                                         ingredients  sodium  \n",
       "0  [4 cups low-sodium vegetable or chicken stock,...   559.0  \n",
       "1  [1 1/2 cups whipping cream, 2 medium onions, c...  1439.0  "
      ]
     },
     "metadata": {},
     "output_type": "display_data"
    },
    {
     "name": "stdout",
     "output_type": "stream",
     "text": [
      "Time elapsed: 1.42749 (seconds)\n"
     ]
    }
   ],
   "source": [
    "# The data was found in https://www.kaggle.com/datasets/hugodarwood/epirecipes/code?select=full_format_recipes.json\n",
    "%memit\n",
    "start_time = time.time()\n",
    "\n",
    "df = pd.read_json('full_format_recipes.json')\n",
    "display(df.head(2))\n",
    "# Print the time of execution\n",
    "end_time =   time.time()\n",
    "print(f'Time elapsed: {end_time - start_time :.5f} (seconds)')"
   ]
  },
  {
   "cell_type": "code",
   "execution_count": 7,
   "id": "08c0bfd6-690a-44a9-b106-a8f8dae87e38",
   "metadata": {},
   "outputs": [
    {
     "name": "stdout",
     "output_type": "stream",
     "text": [
      "peak memory: 405.84 MiB, increment: 0.00 MiB\n",
      "Time elapsed: 0.00000 (seconds)\n"
     ]
    }
   ],
   "source": [
    "# Generate lists from the data\n",
    "%memit\n",
    "start_time = time.time()\n",
    "\n",
    "ingredients_list_2 = df['ingredients'].to_list()\n",
    "instructions_list_2 = df['directions'].to_list()\n",
    "neither_list_2 =  df['desc'].dropna().tolist()\n",
    "\n",
    "# Print the time of execution\n",
    "end_time =   time.time()\n",
    "print(f'Time elapsed: {end_time - start_time :.5f} (seconds)')"
   ]
  },
  {
   "cell_type": "code",
   "execution_count": 8,
   "id": "41d9c896-5ac3-468d-9ad6-5c727838a94e",
   "metadata": {},
   "outputs": [
    {
     "name": "stdout",
     "output_type": "stream",
     "text": [
      "peak memory: 405.85 MiB, increment: 0.00 MiB\n",
      "Time elapsed: 0.00200 (seconds)\n"
     ]
    }
   ],
   "source": [
    "\n",
    "# Combune the two datasets\n",
    "%memit\n",
    "start_time = time.time()\n",
    "\n",
    "combined_ingredients_list =   ingredients_list + ingredients_list_2\n",
    "combined_instructions_list =   instructions_list + instructions_list_2\n",
    "combined_neither_list =   neither_list + neither_list_2\n",
    "\n",
    "# Print the time of execution\n",
    "end_time =   time.time()\n",
    "print(f'Time elapsed: {end_time - start_time :.5f} (seconds)')"
   ]
  },
  {
   "cell_type": "code",
   "execution_count": 10,
   "id": "332a3274-900a-489e-a1cd-714bcc87a022",
   "metadata": {},
   "outputs": [
    {
     "name": "stdout",
     "output_type": "stream",
     "text": [
      "peak memory: 369.73 MiB, increment: 0.00 MiB\n",
      "Time elapsed: 0.09837 (seconds)\n"
     ]
    }
   ],
   "source": [
    "# Combine between the lists and add labels\n",
    "%memit\n",
    "start_time = time.time()\n",
    "\n",
    "dataset = []\n",
    "for i in range(len(combined_neither_list)):\n",
    "    dataset.append([combined_instructions_list[i], [1, 0, 0]])\n",
    "    dataset.append([combined_ingredients_list[i], [0, 1, 0]])\n",
    "    dataset.append([combined_neither_list[i], [0, 0, 1]])\n",
    "\n",
    "\n",
    "# Print the time of execution\n",
    "end_time =   time.time()\n",
    "print(f'Time elapsed: {end_time - start_time :.5f} (seconds)')"
   ]
  },
  {
   "cell_type": "code",
   "execution_count": 11,
   "id": "b86da3a2-48bb-4335-a999-ebb74c39708a",
   "metadata": {},
   "outputs": [
    {
     "name": "stdout",
     "output_type": "stream",
     "text": [
      "peak memory: 369.88 MiB, increment: 0.00 MiB\n",
      "Time elapsed: 7.97864 (seconds)\n"
     ]
    }
   ],
   "source": [
    "%memit\n",
    "# Write the dataset to a TSV file using UTF-8 encoding\n",
    "with open('dataset.tsv', 'w+', encoding='utf-8') as f:\n",
    "    writer = csv.writer(f, delimiter='\\t')\n",
    "    writer.writerows(dataset)\n",
    "    \n",
    "# Print the time of execution\n",
    "end_time =   time.time()\n",
    "print(f'Time elapsed: {end_time - start_time :.5f} (seconds)')"
   ]
  },
  {
   "cell_type": "code",
   "execution_count": 13,
   "id": "d970bc32-4118-491a-b2ff-dbeb9bbc8e67",
   "metadata": {},
   "outputs": [
    {
     "name": "stdout",
     "output_type": "stream",
     "text": [
      "peak memory: 370.09 MiB, increment: 0.00 MiB\n",
      "Time elapsed: 0.02892 (seconds)\n"
     ]
    }
   ],
   "source": [
    "# Combine between the lists and add labels for the left outside dataset without neither samples\n",
    "%memit\n",
    "start_time = time.time()\n",
    "\n",
    "dataset_left_out = []\n",
    "for i in range(len(combined_neither_list) +1 ,len(combined_ingredients_list)):\n",
    "    dataset_left_out.append([combined_instructions_list[i], [1, 0, 0]])\n",
    "    dataset_left_out.append([combined_ingredients_list[i], [0, 1, 0]])\n",
    "\n",
    "# Print the time of execution\n",
    "end_time =   time.time()\n",
    "print(f'Time elapsed: {end_time - start_time :.5f} (seconds)')"
   ]
  },
  {
   "cell_type": "code",
   "execution_count": 14,
   "id": "f90a5cdd-37d1-4e31-bdb1-706ecbebfae3",
   "metadata": {},
   "outputs": [
    {
     "name": "stdout",
     "output_type": "stream",
     "text": [
      "peak memory: 370.12 MiB, increment: 0.00 MiB\n",
      "Time elapsed: 5.17667 (seconds)\n"
     ]
    }
   ],
   "source": [
    "%memit\n",
    "# Write the dataset to a TSV file using UTF-8 encoding\n",
    "with open('dataset_left_out.tsv', 'w+', encoding='utf-8') as f:\n",
    "    writer = csv.writer(f, delimiter='\\t')\n",
    "    writer.writerows(dataset_left_out)\n",
    "    \n",
    "# Print the time of execution\n",
    "end_time =   time.time()\n",
    "print(f'Time elapsed: {end_time - start_time :.5f} (seconds)')"
   ]
  },
  {
   "cell_type": "code",
   "execution_count": null,
   "id": "62178b44-495c-4ed1-baa9-9dc4cdcee323",
   "metadata": {},
   "outputs": [],
   "source": []
  }
 ],
 "metadata": {
  "kernelspec": {
   "display_name": "Python 3 (ipykernel)",
   "language": "python",
   "name": "python3"
  },
  "language_info": {
   "codemirror_mode": {
    "name": "ipython",
    "version": 3
   },
   "file_extension": ".py",
   "mimetype": "text/x-python",
   "name": "python",
   "nbconvert_exporter": "python",
   "pygments_lexer": "ipython3",
   "version": "3.9.7"
  }
 },
 "nbformat": 4,
 "nbformat_minor": 5
}
